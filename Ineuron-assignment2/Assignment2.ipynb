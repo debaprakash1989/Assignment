{
 "cells": [
  {
   "cell_type": "code",
   "execution_count": 57,
   "metadata": {},
   "outputs": [
    {
     "name": "stdout",
     "output_type": "stream",
     "text": [
      "value: 28228200000\n",
      "Operation is not possible.\n",
      "value: None\n"
     ]
    }
   ],
   "source": [
    "def manipulate_number(a,b,o):\n",
    "    if o == '+':\n",
    "        return a+b\n",
    "    elif o == '-':\n",
    "        return a-b\n",
    "    elif o == '*':\n",
    "        return a*b\n",
    "    elif o == '/':\n",
    "        return a/b\n",
    "    elif o == '>':\n",
    "        if a > b:\n",
    "            return a\n",
    "        else:\n",
    "            return b\n",
    "    elif o == '<':\n",
    "        if a<b:\n",
    "            return a\n",
    "        else:\n",
    "            return b\n",
    "\n",
    "def myreduce(fun,lst,opt):\n",
    "    z = lst[0]\n",
    "    if type(z) == str and opt != '+':\n",
    "        print('Operation is not possible.')\n",
    "    else:\n",
    "        for i in range(1,len(lst)):\n",
    "            z = (manipulate_number(z,lst[i],opt))\n",
    "            if i == len(lst)-1:\n",
    "                return z\n",
    "                break            \n",
    "            #print(z)\n",
    "            #print(lst[i])\n",
    "            #print('\\n')\n",
    "\n",
    "li =[47,11,42,13,100,1000]\n",
    "ls =['avc','deba','nibu','panigrahi']\n",
    "\n",
    "v = myreduce(max_find,li,'*')        \n",
    "print ('value: '+ str(v))\n",
    "s = myreduce(max_find,ls,'-')        \n",
    "print ('value: '+ str(s))"
   ]
  },
  {
   "cell_type": "code",
   "execution_count": 66,
   "metadata": {},
   "outputs": [
    {
     "data": {
      "text/plain": [
       "[2, 4, 6, 8, 10, 12, 14]"
      ]
     },
     "execution_count": 66,
     "metadata": {},
     "output_type": "execute_result"
    }
   ],
   "source": [
    "#First let's make a function\n",
    "def even_check(num):\n",
    "    if num%2 ==0:\n",
    "        return True\n",
    "lst =[1,2,3,4,5,6,7,8,9,10,11,12,13,14]\n",
    "\n",
    "def my_filter(even_check,lst):\n",
    "    z = []\n",
    "    for i in range(0,len(lst)):\n",
    "        if even_check(lst[i]):\n",
    "            z.append(lst[i])\n",
    "    else:\n",
    "        return z\n",
    "type(my_filter(even_check,lst))\n",
    "list(my_filter(even_check,lst))\n",
    "#list(filter(even_check,lst))\n"
   ]
  },
  {
   "cell_type": "code",
   "execution_count": 92,
   "metadata": {},
   "outputs": [
    {
     "data": {
      "text/plain": [
       "['A',\n",
       " 'B',\n",
       " 'C',\n",
       " 'D',\n",
       " 'AA',\n",
       " 'BB',\n",
       " 'CC',\n",
       " 'DD',\n",
       " 'AAA',\n",
       " 'BBB',\n",
       " 'CCC',\n",
       " 'DDD',\n",
       " 'AAAA',\n",
       " 'BBBB',\n",
       " 'CCCC',\n",
       " 'DDDD']"
      ]
     },
     "execution_count": 92,
     "metadata": {},
     "output_type": "execute_result"
    }
   ],
   "source": [
    "lst = ['A','B','C','D']\n",
    "[x*i for i in range (1,5) for x in lst]"
   ]
  },
  {
   "cell_type": "code",
   "execution_count": 93,
   "metadata": {},
   "outputs": [
    {
     "data": {
      "text/plain": [
       "['A',\n",
       " 'AA',\n",
       " 'AAA',\n",
       " 'AAAA',\n",
       " 'B',\n",
       " 'BB',\n",
       " 'BBB',\n",
       " 'BBBB',\n",
       " 'C',\n",
       " 'CC',\n",
       " 'CCC',\n",
       " 'CCCC',\n",
       " 'D',\n",
       " 'DD',\n",
       " 'DDD',\n",
       " 'DDDD']"
      ]
     },
     "execution_count": 93,
     "metadata": {},
     "output_type": "execute_result"
    }
   ],
   "source": [
    "lst = ['A','B','C','D']\n",
    "[x*i for x in lst for i in range (1,5)]"
   ]
  },
  {
   "cell_type": "code",
   "execution_count": 97,
   "metadata": {},
   "outputs": [
    {
     "data": {
      "text/plain": [
       "['A', 'C', 'A', 'D', 'G', 'L', 'I', 'D']"
      ]
     },
     "execution_count": 97,
     "metadata": {},
     "output_type": "execute_result"
    }
   ],
   "source": [
    "list('ACADGLID')"
   ]
  },
  {
   "cell_type": "code",
   "execution_count": 123,
   "metadata": {},
   "outputs": [
    {
     "data": {
      "text/plain": [
       "[[2], [3], [4], [3], [4], [5], [4], [5], [6]]"
      ]
     },
     "execution_count": 123,
     "metadata": {},
     "output_type": "execute_result"
    }
   ],
   "source": [
    "[[x+i] for x in range(2,5) for i in range(0,3)]"
   ]
  },
  {
   "cell_type": "code",
   "execution_count": 128,
   "metadata": {},
   "outputs": [
    {
     "data": {
      "text/plain": [
       "[[2, 3, 4, 5], [3, 4, 5, 6], [4, 5, 6, 7], [5, 6, 7, 8]]"
      ]
     },
     "execution_count": 128,
     "metadata": {},
     "output_type": "execute_result"
    }
   ],
   "source": [
    "[[x+i for x in range(2,6)] for i in range(0,4)]"
   ]
  },
  {
   "cell_type": "code",
   "execution_count": 131,
   "metadata": {},
   "outputs": [
    {
     "data": {
      "text/plain": [
       "[(1, 1), (2, 1), (3, 1), (1, 2), (2, 2), (3, 2), (1, 3), (2, 3), (3, 3)]"
      ]
     },
     "execution_count": 131,
     "metadata": {},
     "output_type": "execute_result"
    }
   ],
   "source": [
    "[(x,y)for y in range(1,4) for x in range(1,4)]"
   ]
  },
  {
   "cell_type": "code",
   "execution_count": 141,
   "metadata": {},
   "outputs": [
    {
     "data": {
      "text/plain": [
       "'debapra'"
      ]
     },
     "execution_count": 141,
     "metadata": {},
     "output_type": "execute_result"
    }
   ],
   "source": [
    "from functools import reduce\n",
    "def  longestWord(LST):\n",
    "    max_find = lambda a,b: a if (len(a) > len(b)) else b\n",
    "    return reduce(max_find,lst)        \n",
    "\n",
    "lst =['abcdree','abc','xy','debapra']\n",
    "result = longestWord(lst)\n",
    "result"
   ]
  },
  {
   "cell_type": "code",
   "execution_count": 182,
   "metadata": {},
   "outputs": [
    {
     "name": "stdout",
     "output_type": "stream",
     "text": [
      "11.61895003862225\n"
     ]
    }
   ],
   "source": [
    "class Triangle:\n",
    "    def __init__(self, s, a, b, c):\n",
    "        self.s = s\n",
    "        self.a = a\n",
    "        self.b = b\n",
    "        self.c = c\n",
    "        self.area_value = 0\n",
    "\n",
    "class area(Triangle):\n",
    "    def __init__(self,  *args):\n",
    "        super(area, self).__init__(*args)\n",
    "        self.area_value = (self.s*(self.s-self.a)*(self.s-self.b)*(self.s-self.c)) ** 0.5\n",
    "\n",
    "t1 = area(5,2,2,2)\n",
    "print (t1.area_value)"
   ]
  },
  {
   "cell_type": "code",
   "execution_count": 272,
   "metadata": {},
   "outputs": [
    {
     "name": "stdout",
     "output_type": "stream",
     "text": [
      "<class 'int'>\n",
      "['abc', 'aaa', 'pqr', 'yy', '22']\n",
      "['abc', 'aaa', 'pqr', 'yy', '22']\n"
     ]
    }
   ],
   "source": [
    "def filter_long_words(lst):\n",
    "    #return [x for x in lst if type(x) == int ]\n",
    "    for x in lst:\n",
    "        if type(x) == int:\n",
    "            x = lst.pop(lst.index(x))\n",
    "            break\n",
    "        else:\n",
    "            continue\n",
    "    print(type(x))\n",
    "    print(lst)\n",
    "    z = []        \n",
    "    for i in lst:\n",
    "        if len(str(i)) > x:\n",
    "            z.append(i)\n",
    "        else:\n",
    "            continue\n",
    "    return z        \n",
    "l = ['abc',1,'aaa','pqr','yy','22']\n",
    "v = filter_long_words(l)\n",
    "print(v)"
   ]
  },
  {
   "cell_type": "code",
   "execution_count": 288,
   "metadata": {},
   "outputs": [
    {
     "name": "stdout",
     "output_type": "stream",
     "text": [
      "1\n",
      "2\n",
      "3\n",
      "5\n",
      "[1, 2, 3, 5]\n"
     ]
    }
   ],
   "source": [
    "def len_word(lst):\n",
    "    x =[]\n",
    "    for i in lst:\n",
    "        print(len(i))\n",
    "        x.append(len(i))\n",
    "    return x    \n",
    "l = ['a','bb','ccc','ddddd']\n",
    "v = len_word(l)\n",
    "print(v)"
   ]
  },
  {
   "cell_type": "code",
   "execution_count": 290,
   "metadata": {},
   "outputs": [
    {
     "data": {
      "text/plain": [
       "True"
      ]
     },
     "execution_count": 290,
     "metadata": {},
     "output_type": "execute_result"
    }
   ],
   "source": [
    "def check_vowel(s):\n",
    "    if s.upper() == 'A' or s.upper() == 'E' or s.upper() == 'I' or s.upper() == 'O' or s.upper() == 'U':\n",
    "        return True\n",
    "    else:\n",
    "        return False\n",
    "check_vowel('A')\n",
    "#check_vowel('S')"
   ]
  },
  {
   "cell_type": "code",
   "execution_count": null,
   "metadata": {},
   "outputs": [],
   "source": []
  }
 ],
 "metadata": {
  "kernelspec": {
   "display_name": "Python 3",
   "language": "python",
   "name": "python3"
  },
  "language_info": {
   "codemirror_mode": {
    "name": "ipython",
    "version": 3
   },
   "file_extension": ".py",
   "mimetype": "text/x-python",
   "name": "python",
   "nbconvert_exporter": "python",
   "pygments_lexer": "ipython3",
   "version": "3.7.3"
  }
 },
 "nbformat": 4,
 "nbformat_minor": 2
}
